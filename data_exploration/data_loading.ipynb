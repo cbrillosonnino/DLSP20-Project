{
 "cells": [
  {
   "cell_type": "markdown",
   "metadata": {},
   "source": [
    "### Getting Labeled DataLoader\n",
    "```python\n",
    "from data_loading import get_loaders\n",
    "trainloader, valloader = get_loaders('labeled')\n",
    "```\n",
    "### Getting Unlabeled DataLoader\n",
    "```python\n",
    "from data_loading import get_loaders\n",
    "trainloader, valloader = get_loaders('unlabeled')\n",
    "```"
   ]
  },
  {
   "cell_type": "code",
   "execution_count": 35,
   "metadata": {},
   "outputs": [],
   "source": [
    "import os\n",
    "from PIL import Image\n",
    "\n",
    "import numpy as np\n",
    "import pickle"
   ]
  },
  {
   "cell_type": "code",
   "execution_count": 11,
   "metadata": {},
   "outputs": [],
   "source": [
    "np.random.seed(42420)"
   ]
  },
  {
   "cell_type": "code",
   "execution_count": 107,
   "metadata": {},
   "outputs": [],
   "source": [
    "# To avoid data leakage (and possibly if we add a temporal component to the model) \n",
    "# we need to split our training/valudation sets by scene.\n",
    "\n",
    "# The first 106 scenes are unlabeled\n",
    "unlabeled_scene_index = np.arange(106)\n",
    "# Train/validation split\n",
    "val_unlabeled_scene_index = np.random.choice(unlabeled_scene_index, \n",
    "                                                  size=round(len(unlabeled_scene_index)*.1), \n",
    "                                                  replace=False)\n",
    "train_unlabeled_scene_index = np.array([i for i in unlabeled_scene_index if i not in val_unlabeled_scene_index])\n",
    "\n",
    "# The (28) scenes from 106 - 133 are labeled\n",
    "labeled_scene_index = np.arange(106, 134)\n",
    "# Train/validation split\n",
    "val_labeled_scene_index = np.random.choice(labeled_scene_index, \n",
    "                                                  size=round(len(labeled_scene_index)*.1), \n",
    "                                                  replace=False)\n",
    "train_labeled_scene_index = np.array([i for i in labeled_scene_index if i not in val_labeled_scene_index])"
   ]
  },
  {
   "cell_type": "code",
   "execution_count": 109,
   "metadata": {},
   "outputs": [],
   "source": [
    "# Save\n",
    "pickle.dump(train_unlabeled_scene_index, open('data_utils/unlabeled_scene_index_train.p', 'wb'))\n",
    "pickle.dump(val_unlabeled_scene_index, open('data_utils/unlabeled_scene_index_val.p', 'wb'))\n",
    "pickle.dump(train_labeled_scene_index, open('data_utils/labeled_scene_index_train.p', 'wb'))\n",
    "pickle.dump(val_labeled_scene_index, open('data_utils/labeled_scene_index_val.p', 'wb'))"
   ]
  },
  {
   "cell_type": "code",
   "execution_count": 58,
   "metadata": {},
   "outputs": [],
   "source": [
    "# For unlabeled data\n",
    "# Compute mean/std in two steps so we don't load every image into RAM at the same time\n",
    "r_channel_sum = 0\n",
    "g_channel_sum = 0\n",
    "b_channel_sum = 0\n",
    "count = 0\n",
    "path = 'data'\n",
    "for scene in train_unlabeled_scene_index:\n",
    "    filepath = os.path.join(path, 'scene_{}'.format(scene))\n",
    "    for sample in os.listdir(filepath):\n",
    "        samplepath = os.path.join(filepath, sample)\n",
    "        for filename in os.listdir(samplepath):\n",
    "            img = np.array(Image.open(os.path.join(samplepath, filename))) / 255\n",
    "            r_channel_sum += np.sum(img[:,:,0])\n",
    "            g_channel_sum += np.sum(img[:,:,1])\n",
    "            b_channel_sum += np.sum(img[:,:,2])\n",
    "            count += img.shape[0] * img.shape[1]\n",
    "        \n",
    "r_channel_mean = r_channel_sum/count  \n",
    "g_channel_mean = g_channel_sum/count\n",
    "b_channel_mean = b_channel_sum/count  \n",
    "\n",
    "r_channel_sum = 0\n",
    "g_channel_sum = 0\n",
    "b_channel_sum = 0\n",
    "for scene in train_unlabeled_scene_index:\n",
    "    filepath = os.path.join(path, 'scene_{}'.format(scene))\n",
    "    for sample in os.listdir(filepath):\n",
    "        samplepath = os.path.join(filepath, sample)\n",
    "        for filename in os.listdir(samplepath):\n",
    "            img = np.array(Image.open(os.path.join(samplepath, filename))) / 255\n",
    "            r_channel_sum += np.sum(np.square(img[:,:,0] - r_channel_mean))\n",
    "            g_channel_sum += np.sum(np.square(img[:,:,1] - g_channel_mean))\n",
    "            b_channel_sum += np.sum(np.square(img[:,:,2] - b_channel_mean))\n",
    "\n",
    "r_channel_std = np.sqrt(r_channel_sum/(count-1))\n",
    "g_channel_std = np.sqrt(g_channel_sum/(count-1))\n",
    "b_channel_std = np.sqrt(b_channel_sum/(count-1))\n",
    "\n",
    "# Save\n",
    "file = open(\"unlabeled_data_statistics.txt\",\"a\") \n",
    "file.write('{},{},{} \\n'.format(r_channel_mean, g_channel_mean, b_channel_mean))\n",
    "file.write('{},{},{}'.format(r_channel_std, g_channel_std, b_channel_std))\n",
    "file.close() "
   ]
  },
  {
   "cell_type": "code",
   "execution_count": 60,
   "metadata": {},
   "outputs": [],
   "source": [
    "# For labeled data\n",
    "# Compute mean/std in two steps so we don't load every image into RAM at the same time\n",
    "r_channel_sum = 0\n",
    "g_channel_sum = 0\n",
    "b_channel_sum = 0\n",
    "count = 0\n",
    "path = 'data'\n",
    "for scene in train_labeled_scene_index:\n",
    "    filepath = os.path.join(path, 'scene_{}'.format(scene))\n",
    "    for sample in os.listdir(filepath):\n",
    "        samplepath = os.path.join(filepath, sample)\n",
    "        for filename in os.listdir(samplepath):\n",
    "            img = np.array(Image.open(os.path.join(samplepath, filename))) / 255\n",
    "            r_channel_sum += np.sum(img[:,:,0])\n",
    "            g_channel_sum += np.sum(img[:,:,1])\n",
    "            b_channel_sum += np.sum(img[:,:,2])\n",
    "            count += img.shape[0] * img.shape[1]\n",
    "        \n",
    "r_channel_mean = r_channel_sum/count  \n",
    "g_channel_mean = g_channel_sum/count\n",
    "b_channel_mean = b_channel_sum/count  \n",
    "\n",
    "r_channel_sum = 0\n",
    "g_channel_sum = 0\n",
    "b_channel_sum = 0\n",
    "for scene in train_labeled_scene_index:\n",
    "    filepath = os.path.join(path, 'scene_{}'.format(scene))\n",
    "    for sample in os.listdir(filepath):\n",
    "        samplepath = os.path.join(filepath, sample)\n",
    "        for filename in os.listdir(samplepath):\n",
    "            img = np.array(Image.open(os.path.join(samplepath, filename))) / 255\n",
    "            r_channel_sum += np.sum(np.square(img[:,:,0] - r_channel_mean))\n",
    "            g_channel_sum += np.sum(np.square(img[:,:,1] - g_channel_mean))\n",
    "            b_channel_sum += np.sum(np.square(img[:,:,2] - b_channel_mean))\n",
    "\n",
    "r_channel_std = np.sqrt(r_channel_sum/(count-1))\n",
    "g_channel_std = np.sqrt(g_channel_sum/(count-1))\n",
    "b_channel_std = np.sqrt(b_channel_sum/(count-1))\n",
    "\n",
    "# Save\n",
    "file = open(\"labeled_data_statistics.txt\",\"a\") \n",
    "file.write('{},{},{} \\n'.format(r_channel_mean, g_channel_mean, b_channel_mean))\n",
    "file.write('{},{},{}'.format(r_channel_std, g_channel_std, b_channel_std))\n",
    "file.close() "
   ]
  }
 ],
 "metadata": {
  "kernelspec": {
   "display_name": "Python 3",
   "language": "python",
   "name": "python3"
  },
  "language_info": {
   "codemirror_mode": {
    "name": "ipython",
    "version": 3
   },
   "file_extension": ".py",
   "mimetype": "text/x-python",
   "name": "python",
   "nbconvert_exporter": "python",
   "pygments_lexer": "ipython3",
   "version": "3.8.1"
  }
 },
 "nbformat": 4,
 "nbformat_minor": 4
}
